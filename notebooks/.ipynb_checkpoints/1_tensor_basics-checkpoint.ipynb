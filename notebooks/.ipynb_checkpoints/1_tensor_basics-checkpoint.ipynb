{
 "cells": [
  {
   "cell_type": "markdown",
   "metadata": {
    "toc": true
   },
   "source": [
    "<h1>Table of Contents<span class=\"tocSkip\"></span></h1>\n",
    "<div class=\"toc\"><ul class=\"toc-item\"><li><span><a href=\"#Module-1-:-Tensor-basics\" data-toc-modified-id=\"Module-1-:-Tensor-basics-1\"><span class=\"toc-item-num\">1&nbsp;&nbsp;</span>Module 1 : Tensor basics</a></span><ul class=\"toc-item\"><li><span><a href=\"#Creating-Tensors\" data-toc-modified-id=\"Creating-Tensors-1.1\"><span class=\"toc-item-num\">1.1&nbsp;&nbsp;</span>Creating Tensors</a></span></li><li><span><a href=\"#Manipulating-tensors\" data-toc-modified-id=\"Manipulating-tensors-1.2\"><span class=\"toc-item-num\">1.2&nbsp;&nbsp;</span>Manipulating tensors</a></span><ul class=\"toc-item\"><li><span><a href=\"#Indexing\" data-toc-modified-id=\"Indexing-1.2.1\"><span class=\"toc-item-num\">1.2.1&nbsp;&nbsp;</span>Indexing</a></span></li><li><span><a href=\"#Element-wise-operations\" data-toc-modified-id=\"Element-wise-operations-1.2.2\"><span class=\"toc-item-num\">1.2.2&nbsp;&nbsp;</span>Element wise operations</a></span></li><li><span><a href=\"#Matrix-multiplication-(2D-tensors)\" data-toc-modified-id=\"Matrix-multiplication-(2D-tensors)-1.2.3\"><span class=\"toc-item-num\">1.2.3&nbsp;&nbsp;</span>Matrix multiplication (2D tensors)</a></span></li></ul></li><li><span><a href=\"#Broadcasting\" data-toc-modified-id=\"Broadcasting-1.3\"><span class=\"toc-item-num\">1.3&nbsp;&nbsp;</span>Broadcasting</a></span></li></ul></li></ul></div>"
   ]
  },
  {
   "cell_type": "markdown",
   "metadata": {},
   "source": [
    "# Module 1 : Tensor basics "
   ]
  },
  {
   "cell_type": "code",
   "execution_count": 26,
   "metadata": {
    "ExecuteTime": {
     "end_time": "2021-03-13T11:11:27.081586Z",
     "start_time": "2021-03-13T11:11:27.076840Z"
    }
   },
   "outputs": [],
   "source": [
    "import torch \n",
    "import torch.nn as nn\n",
    "import numpy as np"
   ]
  },
  {
   "cell_type": "markdown",
   "metadata": {},
   "source": [
    "The core of Pytorch its implementation of [tensors](https://en.wikipedia.org/wiki/Tensor). These tensors are multidimensional arrays containing data of a similar [type](https://pytorch.org/docs/stable/tensors.html). They highly similar to numpy ndarrays with some exceptions :\n",
    "\n",
    "- Pytorch tensors can be operated on CUDA-capable Nvidia GPUs (faster matrix multiplication)\n",
    "- Gardient computation with [torch.autograd](https://pytorch.org/tutorials/beginner/blitz/autograd_tutorial.html)\n",
    "- Usually Pytorch tensors used for deep learning whereas numpy ndarrays are used for classical machine learning\n",
    "\n",
    "\n",
    "The idea of this first module is to provide tensors basics. We will then in subsequent modules use this basics to gradually build most important Pytroch stuff \n"
   ]
  },
  {
   "cell_type": "markdown",
   "metadata": {},
   "source": [
    "This section will cover the basics of tensors in Pytorch. They are the building block of most of the library. Their manipulation is highly similar to numpy arrays so I will not got too much in detail"
   ]
  },
  {
   "cell_type": "markdown",
   "metadata": {},
   "source": [
    "As stated tensors are multidimensional arrays. A tensor has a rank (number of dimensions) and each dimension has a size. For example a matrix is a rank 2 tensor with varying dimension (nxm)"
   ]
  },
  {
   "cell_type": "code",
   "execution_count": 25,
   "metadata": {},
   "outputs": [
    {
     "data": {
      "text/plain": [
       "(tensor([[ 0.7312, -0.0998, -0.2789, -0.2186,  0.5331],\n",
       "         [ 0.9110, -0.8401,  0.0840, -0.2927, -0.3597],\n",
       "         [-0.2645, -0.0855, -0.9046,  1.3065, -0.9253],\n",
       "         [-1.8455,  0.4012,  0.8345,  0.9345,  0.4251],\n",
       "         [-0.0872, -0.4266, -1.0446,  1.6130,  0.0269],\n",
       "         [ 0.9529,  0.8912, -0.7392, -0.9767, -0.6420],\n",
       "         [ 1.2685, -0.8448, -1.9350,  0.1971,  1.3197],\n",
       "         [-0.1816,  0.1549, -0.8650,  0.1292, -0.1952],\n",
       "         [ 0.3840,  1.8032,  0.0381, -0.9023, -0.1485],\n",
       "         [-0.5200, -1.2285,  1.3115,  1.8989, -2.0948]]),\n",
       " torch.Size([10, 5]))"
      ]
     },
     "execution_count": 25,
     "metadata": {},
     "output_type": "execute_result"
    }
   ],
   "source": [
    "matrix = torch.randn(10, 5)\n",
    "matrix, matrix.shape"
   ]
  },
  {
   "cell_type": "markdown",
   "metadata": {},
   "source": [
    "## Creating Tensors"
   ]
  },
  {
   "cell_type": "markdown",
   "metadata": {},
   "source": [
    "From a python array"
   ]
  },
  {
   "cell_type": "code",
   "execution_count": 2,
   "metadata": {
    "ExecuteTime": {
     "end_time": "2021-03-13T11:14:03.192114Z",
     "start_time": "2021-03-13T11:14:03.188506Z"
    }
   },
   "outputs": [
    {
     "name": "stdout",
     "output_type": "stream",
     "text": [
      "tensor([[1, 2, 3],\n",
      "        [4, 5, 6]]) torch.int64\n"
     ]
    }
   ],
   "source": [
    "m = [[1, 2, 3], [4, 5, 6]]\n",
    "t = torch.tensor(m)\n",
    "print(t, t.dtype)"
   ]
  },
  {
   "cell_type": "markdown",
   "metadata": {},
   "source": [
    "From a numpy array"
   ]
  },
  {
   "cell_type": "code",
   "execution_count": 3,
   "metadata": {
    "ExecuteTime": {
     "end_time": "2021-03-13T11:17:29.759354Z",
     "start_time": "2021-03-13T11:17:29.752769Z"
    }
   },
   "outputs": [
    {
     "name": "stdout",
     "output_type": "stream",
     "text": [
      "tensor([[ 0.8401,  0.8451],\n",
      "        [ 1.0272, -0.0291],\n",
      "        [-0.2754,  0.2021],\n",
      "        [-1.1618,  0.3961],\n",
      "        [ 0.0422,  0.5322]], dtype=torch.float64)\n"
     ]
    }
   ],
   "source": [
    "m = np.random.randn(5, 2)\n",
    "t = torch.as_tensor(m)\n",
    "print(t)"
   ]
  },
  {
   "cell_type": "markdown",
   "metadata": {},
   "source": [
    "Be careful, the precision when constructing a tensor from numpy is 64 bits. Usually model weight matrices are of dtype float32 which make is not possible to apply it to float64 tensors "
   ]
  },
  {
   "cell_type": "code",
   "execution_count": 4,
   "metadata": {
    "ExecuteTime": {
     "end_time": "2021-03-13T11:34:52.135253Z",
     "start_time": "2021-03-13T11:34:52.130027Z"
    }
   },
   "outputs": [],
   "source": [
    "#model = nn.Linear(2, 1)\n",
    "#model(t)"
   ]
  },
  {
   "cell_type": "code",
   "execution_count": 5,
   "metadata": {
    "ExecuteTime": {
     "end_time": "2021-03-13T11:12:42.122241Z",
     "start_time": "2021-03-13T11:12:42.120310Z"
    }
   },
   "outputs": [],
   "source": [
    "#%debug"
   ]
  },
  {
   "cell_type": "markdown",
   "metadata": {},
   "source": [
    "Random tensor from normal distribution of given shape"
   ]
  },
  {
   "cell_type": "code",
   "execution_count": 6,
   "metadata": {
    "ExecuteTime": {
     "end_time": "2021-03-13T11:20:17.448822Z",
     "start_time": "2021-03-13T11:20:17.442138Z"
    }
   },
   "outputs": [
    {
     "name": "stdout",
     "output_type": "stream",
     "text": [
      "tensor([[-0.2493],\n",
      "        [ 0.4139],\n",
      "        [ 1.0771],\n",
      "        [-0.0745],\n",
      "        [ 0.4799],\n",
      "        [-0.6022],\n",
      "        [-0.3491],\n",
      "        [ 0.9839],\n",
      "        [-1.7531],\n",
      "        [ 1.1543]]) torch.Size([10, 1])\n"
     ]
    }
   ],
   "source": [
    "t = torch.randn(10, 1)\n",
    "print(t, t.shape)"
   ]
  },
  {
   "cell_type": "markdown",
   "metadata": {
    "ExecuteTime": {
     "end_time": "2021-03-13T11:21:24.502829Z",
     "start_time": "2021-03-13T11:21:24.500129Z"
    }
   },
   "source": [
    "Other similar to numpy "
   ]
  },
  {
   "cell_type": "code",
   "execution_count": 7,
   "metadata": {},
   "outputs": [],
   "source": [
    "??torch.zeros"
   ]
  },
  {
   "cell_type": "code",
   "execution_count": null,
   "metadata": {},
   "outputs": [],
   "source": [
    "??torch.zeros_like"
   ]
  },
  {
   "cell_type": "code",
   "execution_count": null,
   "metadata": {},
   "outputs": [],
   "source": [
    "??torch.ones"
   ]
  },
  {
   "cell_type": "code",
   "execution_count": null,
   "metadata": {},
   "outputs": [],
   "source": [
    "??torch.ones_like"
   ]
  },
  {
   "cell_type": "code",
   "execution_count": 36,
   "metadata": {
    "ExecuteTime": {
     "end_time": "2021-03-13T11:22:31.280760Z",
     "start_time": "2021-03-13T11:22:31.277607Z"
    }
   },
   "outputs": [],
   "source": [
    "??torch.eye"
   ]
  },
  {
   "cell_type": "markdown",
   "metadata": {},
   "source": [
    "Creating a tensor with requires_grad=True will have the effect that operations on it will be recorded so that the gradient of this tensor with respect to these operations can be automatically computed "
   ]
  },
  {
   "cell_type": "code",
   "execution_count": 8,
   "metadata": {
    "ExecuteTime": {
     "end_time": "2021-03-13T11:29:12.119494Z",
     "start_time": "2021-03-13T11:29:12.059597Z"
    }
   },
   "outputs": [],
   "source": [
    "w = torch.tensor([1], dtype=torch.float, requires_grad=True)\n",
    "loss = (w * 2) - 1.5\n",
    "loss.backward()"
   ]
  },
  {
   "cell_type": "markdown",
   "metadata": {},
   "source": [
    "In order to call .backward() on a pytorch tensor loss :\n",
    "\n",
    "1. one of the tensors of the computation leading to loss must have requires_grad=True\n",
    "2. loss has to be a scalar !"
   ]
  },
  {
   "cell_type": "code",
   "execution_count": 9,
   "metadata": {
    "ExecuteTime": {
     "end_time": "2021-03-13T11:35:01.898144Z",
     "start_time": "2021-03-13T11:35:01.895873Z"
    }
   },
   "outputs": [],
   "source": [
    "#w = torch.tensor([1], dtype=torch.float)\n",
    "#loss = (w * 2) - 1.5\n",
    "#loss.backward()"
   ]
  },
  {
   "cell_type": "code",
   "execution_count": 10,
   "metadata": {
    "ExecuteTime": {
     "end_time": "2021-03-13T11:35:07.165291Z",
     "start_time": "2021-03-13T11:35:07.160233Z"
    }
   },
   "outputs": [],
   "source": [
    "#w = torch.tensor([1], dtype=torch.float, requires_grad=True)\n",
    "#loss = (w * 2) - torch.tensor([1.5, 2])\n",
    "#loss.backward()"
   ]
  },
  {
   "cell_type": "markdown",
   "metadata": {},
   "source": [
    "This automatic differentiation the basic of deep learning with pytorch"
   ]
  },
  {
   "cell_type": "markdown",
   "metadata": {},
   "source": [
    "Finally, the tensors can be stored and manipulated on the gpu "
   ]
  },
  {
   "cell_type": "code",
   "execution_count": 11,
   "metadata": {
    "ExecuteTime": {
     "end_time": "2021-03-13T11:38:53.719998Z",
     "start_time": "2021-03-13T11:38:53.699337Z"
    }
   },
   "outputs": [
    {
     "data": {
      "text/plain": [
       "device(type='cuda', index=0)"
      ]
     },
     "execution_count": 11,
     "metadata": {},
     "output_type": "execute_result"
    }
   ],
   "source": [
    "t = torch.randn(1000, 1000, device='cuda')\n",
    "t.device"
   ]
  },
  {
   "cell_type": "code",
   "execution_count": 12,
   "metadata": {
    "ExecuteTime": {
     "end_time": "2021-03-13T11:39:19.327711Z",
     "start_time": "2021-03-13T11:39:19.309876Z"
    }
   },
   "outputs": [
    {
     "data": {
      "text/plain": [
       "device(type='cuda', index=0)"
      ]
     },
     "execution_count": 12,
     "metadata": {},
     "output_type": "execute_result"
    }
   ],
   "source": [
    "t = torch.randn(1000, 1000)\n",
    "t = t.to('cuda')\n",
    "t.device"
   ]
  },
  {
   "cell_type": "code",
   "execution_count": 13,
   "metadata": {
    "ExecuteTime": {
     "end_time": "2021-03-13T11:39:37.376327Z",
     "start_time": "2021-03-13T11:39:37.368783Z"
    }
   },
   "outputs": [
    {
     "data": {
      "text/plain": [
       "device(type='cpu')"
      ]
     },
     "execution_count": 13,
     "metadata": {},
     "output_type": "execute_result"
    }
   ],
   "source": [
    "t = t.to('cpu')\n",
    "t.device"
   ]
  },
  {
   "cell_type": "markdown",
   "metadata": {},
   "source": [
    "Matrix multiplication is way faster on gpu "
   ]
  },
  {
   "cell_type": "code",
   "execution_count": 14,
   "metadata": {
    "ExecuteTime": {
     "end_time": "2021-03-13T11:41:49.987071Z",
     "start_time": "2021-03-13T11:41:49.977998Z"
    }
   },
   "outputs": [],
   "source": [
    "a, b = torch.randn(500, 100, device='cuda'), torch.randn(100, 500, device='cuda')"
   ]
  },
  {
   "cell_type": "code",
   "execution_count": 59,
   "metadata": {
    "ExecuteTime": {
     "end_time": "2021-03-13T11:42:09.310500Z",
     "start_time": "2021-03-13T11:41:57.994978Z"
    }
   },
   "outputs": [
    {
     "name": "stdout",
     "output_type": "stream",
     "text": [
      "13.9 µs ± 42.8 ns per loop (mean ± std. dev. of 7 runs, 100000 loops each)\n"
     ]
    }
   ],
   "source": [
    "%%timeit\n",
    "a @ b"
   ]
  },
  {
   "cell_type": "code",
   "execution_count": 60,
   "metadata": {
    "ExecuteTime": {
     "end_time": "2021-03-13T11:42:42.854678Z",
     "start_time": "2021-03-13T11:42:42.848951Z"
    }
   },
   "outputs": [],
   "source": [
    "a, b = torch.randn(500, 100), torch.randn(100, 500)"
   ]
  },
  {
   "cell_type": "code",
   "execution_count": 61,
   "metadata": {
    "ExecuteTime": {
     "end_time": "2021-03-13T11:43:01.433028Z",
     "start_time": "2021-03-13T11:42:51.897058Z"
    }
   },
   "outputs": [
    {
     "name": "stdout",
     "output_type": "stream",
     "text": [
      "116 µs ± 814 ns per loop (mean ± std. dev. of 7 runs, 10000 loops each)\n"
     ]
    }
   ],
   "source": [
    "%%timeit\n",
    "a @ b"
   ]
  },
  {
   "cell_type": "markdown",
   "metadata": {},
   "source": [
    "Around 10 times slower on cpu ! "
   ]
  },
  {
   "cell_type": "markdown",
   "metadata": {},
   "source": [
    "## Manipulating tensors"
   ]
  },
  {
   "cell_type": "markdown",
   "metadata": {
    "ExecuteTime": {
     "end_time": "2021-03-13T11:51:05.425117Z",
     "start_time": "2021-03-13T11:51:05.421426Z"
    }
   },
   "source": [
    "### Indexing "
   ]
  },
  {
   "cell_type": "markdown",
   "metadata": {},
   "source": [
    "Indexing for Pytorch tensors is similar to numpy array indexing"
   ]
  },
  {
   "cell_type": "code",
   "execution_count": 15,
   "metadata": {
    "ExecuteTime": {
     "end_time": "2021-03-13T11:51:57.609770Z",
     "start_time": "2021-03-13T11:51:57.597228Z"
    }
   },
   "outputs": [
    {
     "data": {
      "text/plain": [
       "tensor([[-0.3915, -2.4807],\n",
       "        [-0.2013, -0.0578],\n",
       "        [-0.0894,  0.6247],\n",
       "        [-0.2787, -0.1527],\n",
       "        [ 0.8075, -0.4570]])"
      ]
     },
     "execution_count": 15,
     "metadata": {},
     "output_type": "execute_result"
    }
   ],
   "source": [
    "t = torch.randn(5, 2)\n",
    "t"
   ]
  },
  {
   "cell_type": "markdown",
   "metadata": {},
   "source": [
    "Getting one element"
   ]
  },
  {
   "cell_type": "code",
   "execution_count": 16,
   "metadata": {
    "ExecuteTime": {
     "end_time": "2021-03-13T11:52:27.877731Z",
     "start_time": "2021-03-13T11:52:27.865943Z"
    }
   },
   "outputs": [
    {
     "data": {
      "text/plain": [
       "tensor(-0.3915)"
      ]
     },
     "execution_count": 16,
     "metadata": {},
     "output_type": "execute_result"
    }
   ],
   "source": [
    "t[0, 0]"
   ]
  },
  {
   "cell_type": "markdown",
   "metadata": {},
   "source": [
    "Getting sub-tensors (rows or columns for instance) "
   ]
  },
  {
   "cell_type": "code",
   "execution_count": 17,
   "metadata": {
    "ExecuteTime": {
     "end_time": "2021-03-13T11:53:42.915166Z",
     "start_time": "2021-03-13T11:53:42.901109Z"
    }
   },
   "outputs": [
    {
     "data": {
      "text/plain": [
       "(tensor([-0.3915, -0.2013, -0.0894, -0.2787,  0.8075]),\n",
       " tensor([-0.3915, -2.4807]))"
      ]
     },
     "execution_count": 17,
     "metadata": {},
     "output_type": "execute_result"
    }
   ],
   "source": [
    "t[:, 0], t[0, :]"
   ]
  },
  {
   "cell_type": "code",
   "execution_count": 18,
   "metadata": {
    "ExecuteTime": {
     "end_time": "2021-03-13T12:03:25.717790Z",
     "start_time": "2021-03-13T12:03:25.712211Z"
    }
   },
   "outputs": [
    {
     "data": {
      "text/plain": [
       "tensor([[-0.3915, -2.4807],\n",
       "        [-0.0894,  0.6247],\n",
       "        [ 0.8075, -0.4570]])"
      ]
     },
     "execution_count": 18,
     "metadata": {},
     "output_type": "execute_result"
    }
   ],
   "source": [
    "rows = [0, 2, 4]\n",
    "t[rows, :]"
   ]
  },
  {
   "cell_type": "markdown",
   "metadata": {},
   "source": [
    "### Element wise operations"
   ]
  },
  {
   "cell_type": "code",
   "execution_count": 19,
   "metadata": {
    "ExecuteTime": {
     "end_time": "2021-03-13T12:04:55.105269Z",
     "start_time": "2021-03-13T12:04:55.099977Z"
    }
   },
   "outputs": [],
   "source": [
    "A, B = torch.zeros(5, 5), torch.ones(5, 5)"
   ]
  },
  {
   "cell_type": "code",
   "execution_count": 20,
   "metadata": {
    "ExecuteTime": {
     "end_time": "2021-03-13T12:04:58.878074Z",
     "start_time": "2021-03-13T12:04:58.864523Z"
    }
   },
   "outputs": [
    {
     "data": {
      "text/plain": [
       "tensor([[1., 1., 1., 1., 1.],\n",
       "        [1., 1., 1., 1., 1.],\n",
       "        [1., 1., 1., 1., 1.],\n",
       "        [1., 1., 1., 1., 1.],\n",
       "        [1., 1., 1., 1., 1.]])"
      ]
     },
     "execution_count": 20,
     "metadata": {},
     "output_type": "execute_result"
    }
   ],
   "source": [
    "A + B"
   ]
  },
  {
   "cell_type": "code",
   "execution_count": 21,
   "metadata": {
    "ExecuteTime": {
     "end_time": "2021-03-13T12:05:09.218133Z",
     "start_time": "2021-03-13T12:05:09.213967Z"
    }
   },
   "outputs": [
    {
     "data": {
      "text/plain": [
       "tensor([[-1., -1., -1., -1., -1.],\n",
       "        [-1., -1., -1., -1., -1.],\n",
       "        [-1., -1., -1., -1., -1.],\n",
       "        [-1., -1., -1., -1., -1.],\n",
       "        [-1., -1., -1., -1., -1.]])"
      ]
     },
     "execution_count": 21,
     "metadata": {},
     "output_type": "execute_result"
    }
   ],
   "source": [
    "A - B"
   ]
  },
  {
   "cell_type": "code",
   "execution_count": 22,
   "metadata": {
    "ExecuteTime": {
     "end_time": "2021-03-13T12:05:14.461726Z",
     "start_time": "2021-03-13T12:05:14.458277Z"
    }
   },
   "outputs": [
    {
     "data": {
      "text/plain": [
       "tensor([[0., 0., 0., 0., 0.],\n",
       "        [0., 0., 0., 0., 0.],\n",
       "        [0., 0., 0., 0., 0.],\n",
       "        [0., 0., 0., 0., 0.],\n",
       "        [0., 0., 0., 0., 0.]])"
      ]
     },
     "execution_count": 22,
     "metadata": {},
     "output_type": "execute_result"
    }
   ],
   "source": [
    "A * B"
   ]
  },
  {
   "cell_type": "code",
   "execution_count": 23,
   "metadata": {
    "ExecuteTime": {
     "end_time": "2021-03-13T12:05:27.746188Z",
     "start_time": "2021-03-13T12:05:27.742777Z"
    }
   },
   "outputs": [
    {
     "data": {
      "text/plain": [
       "tensor([[0., 0., 0., 0., 0.],\n",
       "        [0., 0., 0., 0., 0.],\n",
       "        [0., 0., 0., 0., 0.],\n",
       "        [0., 0., 0., 0., 0.],\n",
       "        [0., 0., 0., 0., 0.]])"
      ]
     },
     "execution_count": 23,
     "metadata": {},
     "output_type": "execute_result"
    }
   ],
   "source": [
    "A / B"
   ]
  },
  {
   "cell_type": "code",
   "execution_count": 24,
   "metadata": {
    "ExecuteTime": {
     "end_time": "2021-03-13T12:05:38.526855Z",
     "start_time": "2021-03-13T12:05:38.523345Z"
    }
   },
   "outputs": [
    {
     "data": {
      "text/plain": [
       "tensor([[False, False, False, False, False],\n",
       "        [False, False, False, False, False],\n",
       "        [False, False, False, False, False],\n",
       "        [False, False, False, False, False],\n",
       "        [False, False, False, False, False]])"
      ]
     },
     "execution_count": 24,
     "metadata": {},
     "output_type": "execute_result"
    }
   ],
   "source": [
    "A == B"
   ]
  },
  {
   "cell_type": "markdown",
   "metadata": {
    "ExecuteTime": {
     "end_time": "2021-03-13T12:06:22.413424Z",
     "start_time": "2021-03-13T12:06:22.407933Z"
    }
   },
   "source": [
    "Aggregating dimensions"
   ]
  },
  {
   "cell_type": "code",
   "execution_count": 84,
   "metadata": {
    "ExecuteTime": {
     "end_time": "2021-03-13T12:08:19.368522Z",
     "start_time": "2021-03-13T12:08:19.360387Z"
    }
   },
   "outputs": [
    {
     "data": {
      "text/plain": [
       "(tensor([1., 1., 1., 1., 1.]),\n",
       " tensor([0., 0., 0., 0., 0.]),\n",
       " tensor([5., 5., 5., 5., 5.]))"
      ]
     },
     "execution_count": 84,
     "metadata": {},
     "output_type": "execute_result"
    }
   ],
   "source": [
    "B.mean(dim=1), B.std(dim=1), B.sum(dim=1)"
   ]
  },
  {
   "cell_type": "markdown",
   "metadata": {},
   "source": [
    "### Matrix multiplication (2D tensors)"
   ]
  },
  {
   "cell_type": "code",
   "execution_count": 62,
   "metadata": {
    "ExecuteTime": {
     "end_time": "2021-03-13T11:49:26.615990Z",
     "start_time": "2021-03-13T11:49:26.611597Z"
    }
   },
   "outputs": [],
   "source": [
    "A, B = torch.randn(5, 4), torch.randn(4, 5)"
   ]
  },
  {
   "cell_type": "code",
   "execution_count": 63,
   "metadata": {
    "ExecuteTime": {
     "end_time": "2021-03-13T11:49:30.889684Z",
     "start_time": "2021-03-13T11:49:30.879399Z"
    }
   },
   "outputs": [
    {
     "data": {
      "text/plain": [
       "tensor([[-0.2753, -1.2055, -2.0163, -0.7923,  0.2999],\n",
       "        [ 0.2324,  0.2577, -1.2488, -1.4069, -1.8431],\n",
       "        [-0.3433,  2.5036,  1.2630, -0.0207, -1.7407],\n",
       "        [-0.1832,  0.7080,  2.1643,  1.7384, -1.1997],\n",
       "        [-0.4892,  2.5058,  0.1570, -0.9452, -0.4198]])"
      ]
     },
     "execution_count": 63,
     "metadata": {},
     "output_type": "execute_result"
    }
   ],
   "source": [
    "A @ B"
   ]
  },
  {
   "cell_type": "code",
   "execution_count": 64,
   "metadata": {
    "ExecuteTime": {
     "end_time": "2021-03-13T11:49:41.356578Z",
     "start_time": "2021-03-13T11:49:41.342408Z"
    }
   },
   "outputs": [
    {
     "data": {
      "text/plain": [
       "tensor([[-0.2753, -1.2055, -2.0163, -0.7923,  0.2999],\n",
       "        [ 0.2324,  0.2577, -1.2488, -1.4069, -1.8431],\n",
       "        [-0.3433,  2.5036,  1.2630, -0.0207, -1.7407],\n",
       "        [-0.1832,  0.7080,  2.1643,  1.7384, -1.1997],\n",
       "        [-0.4892,  2.5058,  0.1570, -0.9452, -0.4198]])"
      ]
     },
     "execution_count": 64,
     "metadata": {},
     "output_type": "execute_result"
    }
   ],
   "source": [
    "torch.mm(A, B)"
   ]
  },
  {
   "cell_type": "code",
   "execution_count": 66,
   "metadata": {
    "ExecuteTime": {
     "end_time": "2021-03-13T11:50:02.226932Z",
     "start_time": "2021-03-13T11:50:02.223191Z"
    }
   },
   "outputs": [
    {
     "data": {
      "text/plain": [
       "tensor([[-0.2753, -1.2055, -2.0163, -0.7923,  0.2999],\n",
       "        [ 0.2324,  0.2577, -1.2488, -1.4069, -1.8431],\n",
       "        [-0.3433,  2.5036,  1.2630, -0.0207, -1.7407],\n",
       "        [-0.1832,  0.7080,  2.1643,  1.7384, -1.1997],\n",
       "        [-0.4892,  2.5058,  0.1570, -0.9452, -0.4198]])"
      ]
     },
     "execution_count": 66,
     "metadata": {},
     "output_type": "execute_result"
    }
   ],
   "source": [
    "A.mm(B)"
   ]
  },
  {
   "cell_type": "code",
   "execution_count": 67,
   "metadata": {
    "ExecuteTime": {
     "end_time": "2021-03-13T11:50:15.557481Z",
     "start_time": "2021-03-13T11:50:15.553288Z"
    }
   },
   "outputs": [
    {
     "data": {
      "text/plain": [
       "tensor([[-0.2753, -1.2055, -2.0163, -0.7923,  0.2999],\n",
       "        [ 0.2324,  0.2577, -1.2488, -1.4069, -1.8431],\n",
       "        [-0.3433,  2.5036,  1.2630, -0.0207, -1.7407],\n",
       "        [-0.1832,  0.7080,  2.1643,  1.7384, -1.1997],\n",
       "        [-0.4892,  2.5058,  0.1570, -0.9452, -0.4198]])"
      ]
     },
     "execution_count": 67,
     "metadata": {},
     "output_type": "execute_result"
    }
   ],
   "source": [
    "torch.matmul(A, B)"
   ]
  },
  {
   "cell_type": "markdown",
   "metadata": {},
   "source": [
    "## Broadcasting"
   ]
  },
  {
   "cell_type": "code",
   "execution_count": null,
   "metadata": {},
   "outputs": [],
   "source": []
  }
 ],
 "metadata": {
  "kernelspec": {
   "display_name": "Python 3",
   "language": "python",
   "name": "python3"
  },
  "language_info": {
   "codemirror_mode": {
    "name": "ipython",
    "version": 3
   },
   "file_extension": ".py",
   "mimetype": "text/x-python",
   "name": "python",
   "nbconvert_exporter": "python",
   "pygments_lexer": "ipython3",
   "version": "3.7.6"
  },
  "toc": {
   "base_numbering": 1,
   "nav_menu": {},
   "number_sections": true,
   "sideBar": true,
   "skip_h1_title": false,
   "title_cell": "Table of Contents",
   "title_sidebar": "Contents",
   "toc_cell": true,
   "toc_position": {},
   "toc_section_display": true,
   "toc_window_display": true
  },
  "varInspector": {
   "cols": {
    "lenName": 16,
    "lenType": 16,
    "lenVar": 40
   },
   "kernels_config": {
    "python": {
     "delete_cmd_postfix": "",
     "delete_cmd_prefix": "del ",
     "library": "var_list.py",
     "varRefreshCmd": "print(var_dic_list())"
    },
    "r": {
     "delete_cmd_postfix": ") ",
     "delete_cmd_prefix": "rm(",
     "library": "var_list.r",
     "varRefreshCmd": "cat(var_dic_list()) "
    }
   },
   "types_to_exclude": [
    "module",
    "function",
    "builtin_function_or_method",
    "instance",
    "_Feature"
   ],
   "window_display": false
  }
 },
 "nbformat": 4,
 "nbformat_minor": 4
}
